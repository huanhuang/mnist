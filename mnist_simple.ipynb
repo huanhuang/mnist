{
 "cells": [
  {
   "cell_type": "markdown",
   "metadata": {},
   "source": [
    "  # 使用神经网络实现手写数字识别\n",
    "  使用mnist 数据集，用含一层隐藏层的神经网络训练一个简单的模型来识别手写数字。\n",
    "  准确率 90%以上。\n",
    "  并用自己的手写数字的图片验证。"
   ]
  },
  {
   "cell_type": "markdown",
   "metadata": {},
   "source": [
    "## 加载所需的库"
   ]
  },
  {
   "cell_type": "code",
   "execution_count": 114,
   "metadata": {},
   "outputs": [],
   "source": [
    "import sys ,os \n",
    "import numpy as np\n",
    "import matplotlib.pyplot as plt\n",
    "sys.path.append(os.pardir) #加入当前目录，要用到mnist.py\n",
    "from dataset.mnist import load_mnist\n",
    "from PIL import Image"
   ]
  },
  {
   "cell_type": "markdown",
   "metadata": {},
   "source": [
    "## 加载mnist数据集"
   ]
  },
  {
   "cell_type": "code",
   "execution_count": 115,
   "metadata": {},
   "outputs": [
    {
     "name": "stdout",
     "output_type": "stream",
     "text": [
      "number of trainning sample is :60000\n",
      "number of test sample is :10000\n",
      "shape of x_train is :(60000, 1, 28, 28)\n",
      "shape of t_train is :(60000, 10)\n",
      "shape of x_test is :(10000, 1, 28, 28)\n",
      "shape of t_test is :(10000, 10)\n"
     ]
    }
   ],
   "source": [
    "#（训练图像，训练标签），（测试图像，测试标签）\n",
    "# mnist的图像均为28*28尺寸的数据，通道为1\n",
    "(x_train_origin,t_train_origin),(x_test_origin,t_test_origin) = load_mnist(normalize=True,flatten=False,one_hot_label=True)\n",
    "\n",
    "m_train = x_train_origin.shape[0] #训练集大小\n",
    "m_test = x_test_origin.shape[0] #测试集大小\n",
    "num_px = x_train_origin.shape[2] #px = height = width\n",
    "\n",
    "num_category = 10 #分类类别个数总共有10个0-9\n",
    "\n",
    "print(\"number of trainning sample is :\"+repr(m_train))\n",
    "print(\"number of test sample is :\"+repr(m_test))\n",
    "\n",
    "print(\"shape of x_train is :\"+repr(x_train_origin.shape))\n",
    "print(\"shape of t_train is :\"+repr(t_train_origin.shape))\n",
    "print(\"shape of x_test is :\"+repr(x_test_origin.shape))\n",
    "print(\"shape of t_test is :\"+repr(t_test_origin.shape))"
   ]
  },
  {
   "cell_type": "markdown",
   "metadata": {},
   "source": [
    "## reshape \n",
    "将数据集的shape转变成(nx,m) ,nx为特征数量，这里即像素个数，m为数据大小.\n",
    "方便神经网络的计算\n"
   ]
  },
  {
   "cell_type": "code",
   "execution_count": 116,
   "metadata": {},
   "outputs": [
    {
     "name": "stdout",
     "output_type": "stream",
     "text": [
      "shape of train_set_x is :(784, 60000)\n",
      "shape of train_set_y is :(10, 60000)\n",
      "shape of test_set_x is :(784, 10000)\n",
      "shape of test_set_y is :(10, 10000)\n"
     ]
    }
   ],
   "source": [
    "train_set_x = x_train_origin.reshape(x_train_origin.shape[0],-1).T\n",
    "train_set_y = t_train_origin.T\n",
    "test_set_x = x_test_origin.reshape(x_test_origin.shape[0],-1).T\n",
    "test_set_y  = t_test_origin.T\n",
    "\n",
    "print(\"shape of train_set_x is :\"+repr(train_set_x.shape))\n",
    "print(\"shape of train_set_y is :\"+repr(train_set_y.shape))\n",
    "print(\"shape of test_set_x is :\"+repr(test_set_x.shape))\n",
    "print(\"shape of test_set_y is :\"+repr(test_set_y.shape))"
   ]
  },
  {
   "cell_type": "markdown",
   "metadata": {},
   "source": [
    "## 显示图像"
   ]
  },
  {
   "cell_type": "code",
   "execution_count": 297,
   "metadata": {},
   "outputs": [
    {
     "name": "stdout",
     "output_type": "stream",
     "text": [
      "y is:5\n"
     ]
    },
    {
     "data": {
      "image/png": "[encoded data removed]",
      "text/plain": [
       "<Figure size 432x288 with 1 Axes>"
      ]
     },
     "metadata": {
      "needs_background": "light"
     },
     "output_type": "display_data"
    }
   ],
   "source": [
    "index = 0\n",
    "plt.imshow(x_train_origin[index].reshape((28,28)),cmap = plt.cm.gray)\n",
    "print(\"y is:\"+str(np.argmax(t_train_origin[index])))"
   ]
  },
  {
   "cell_type": "markdown",
   "metadata": {},
   "source": [
    "## sigmoid函数\n",
    "1/(1+exp(-z))"
   ]
  },
  {
   "cell_type": "code",
   "execution_count": 118,
   "metadata": {},
   "outputs": [],
   "source": [
    "def sigmoid(z):\n",
    "    \"\"\"\n",
    "    计算z的sigmoid 值\n",
    "    Arguments:\n",
    "    z -- 实数或任意数组\n",
    "    Return:\n",
    "    s --  返回类型与z一致\n",
    "   \"\"\"\n",
    "    \n",
    "    s = 1 / (1+np.exp(-z))\n",
    "    return s    "
   ]
  },
  {
   "cell_type": "code",
   "execution_count": 119,
   "metadata": {},
   "outputs": [
    {
     "name": "stdout",
     "output_type": "stream",
     "text": [
      "s is :0.5\n"
     ]
    }
   ],
   "source": [
    "s = sigmoid(0)\n",
    "print(\"s is :\"+str(s))"
   ]
  },
  {
   "cell_type": "markdown",
   "metadata": {},
   "source": [
    "## 初始化参数 w ,b"
   ]
  },
  {
   "cell_type": "code",
   "execution_count": 120,
   "metadata": {},
   "outputs": [],
   "source": [
    "def initilize_params(dim,num_categories) :\n",
    "    \"\"\"\n",
    "    init w and b \n",
    "    Arguments:\n",
    "        dim -- size of w\n",
    "        num_categories: number of total categories\n",
    "    Return :\n",
    "    w -- shape of (dim,num_categories)\n",
    "    b -- shape of (num_categories,1)\n",
    "     \"\"\"\n",
    "    w = np.zeros((dim,num_categories))\n",
    "    b = np.zeros((num_categories,1))\n",
    "    assert(w.shape == (dim,num_categories))\n",
    "    assert(b.shape == (num_categories,1))\n",
    "    return w,b"
   ]
  },
  {
   "cell_type": "code",
   "execution_count": 121,
   "metadata": {},
   "outputs": [
    {
     "data": {
      "text/plain": [
       "(array([[0., 0., 0., 0., 0., 0., 0., 0., 0., 0.],\n",
       "        [0., 0., 0., 0., 0., 0., 0., 0., 0., 0.]]), array([[0.],\n",
       "        [0.],\n",
       "        [0.],\n",
       "        [0.],\n",
       "        [0.],\n",
       "        [0.],\n",
       "        [0.],\n",
       "        [0.],\n",
       "        [0.],\n",
       "        [0.]]))"
      ]
     },
     "execution_count": 121,
     "metadata": {},
     "output_type": "execute_result"
    }
   ],
   "source": [
    "initilize_params(2,10)"
   ]
  },
  {
   "cell_type": "markdown",
   "metadata": {},
   "source": [
    "## 前向传播与反向传播"
   ]
  },
  {
   "cell_type": "code",
   "execution_count": 122,
   "metadata": {},
   "outputs": [],
   "source": [
    " def propagate(w,b,X,Y): \n",
    "    \"\"\"\n",
    "    Arguments:\n",
    "        w-- weights,numpy array of shape(num_px*num_px,num_categories)\n",
    "        b -- bias of shape (num_categories,1)\n",
    "        X -- data of shape (num_px*num_px,number of examples)\n",
    "        Y -- tag of shape (num_categories, number of example)\n",
    "        \n",
    "        Return :\n",
    "            grads -- a dict ,derivative of dw,db\n",
    "            cost  -- current cost \n",
    "    \"\"\"\n",
    "    m = X.shape[1]\n",
    "    #前向传播 START 计算损失\n",
    "    #caculate W^T*X +b\n",
    "    z = np.dot(w.T,X) + b  #shape is:(num_categories,number of examples)\n",
    "    yhat = sigmoid(z)  # 每个样本0-9的预测概率,shape is same as z \n",
    "    #计算损失\n",
    "    cost = -np.sum((Y * np.log(yhat) + (1-Y)*np.log(1-yhat)))/m\n",
    "    # 前向传播 END\n",
    "    \n",
    "    # 反向传播 START\n",
    "    dw = np.dot(X , (yhat - Y).T)/m #shape is same with w\n",
    "    db =  np.sum((yhat - Y),axis = 1)/m #shape is same with b\n",
    "    db = db.reshape(b.shape)\n",
    "    #反向传播 END\n",
    "    \n",
    "    assert(dw.shape == w.shape)\n",
    "    assert(db.shape == b.shape)\n",
    "    \n",
    "    grads = {\"dw\":dw,\n",
    "                \"db\":db}\n",
    "    \n",
    "        \n",
    "    return grads, cost \n",
    "\n"
   ]
  },
  {
   "cell_type": "code",
   "execution_count": 123,
   "metadata": {},
   "outputs": [
    {
     "data": {
      "text/plain": [
       "({'dw': array([[ 0.49752738, -0.00669285],\n",
       "         [ 0.99505475, -0.0133857 ]]), 'db': array([[ 0.49752738],\n",
       "         [-0.00669285]])}, 3.0091910336268723)"
      ]
     },
     "execution_count": 123,
     "metadata": {},
     "output_type": "execute_result"
    }
   ],
   "source": [
    "w = np.array([[1,1],[2,1]])\n",
    "b = np.array([[1],[2]])\n",
    "X = np.array([[1,1],[2,2]])\n",
    "Y = np.array([[0,1],[1,1]])\n",
    "\n",
    "propagate(w,b,X,Y)\n",
    "\n"
   ]
  },
  {
   "cell_type": "markdown",
   "metadata": {},
   "source": [
    "## 优化"
   ]
  },
  {
   "cell_type": "code",
   "execution_count": 124,
   "metadata": {},
   "outputs": [],
   "source": [
    "def optimize(w,b,X,Y,number_iterations,learning_rate):\n",
    "        \"\"\"\n",
    "        optimize w and b by running gradient descent algorithm\n",
    "    Arguments:\n",
    "        w-- weights,numpy array of shape(num_px*num_px,num_categories)\n",
    "        b -- bias of shape (num_categories,1)\n",
    "        X -- data of shape (num_px*num_px,number of examples)\n",
    "        Y -- tag of shape (num_categories, number of example)\n",
    "        number_iterations -- number of iterate for gradient descent \n",
    "        learning_rate -- learning rate for gradient descent   \n",
    "        \n",
    "        Return :\n",
    "            params -- a dict ,include w ,b \n",
    "            grads -- a dict ,derivative of dw,db\n",
    "            cost  -- current cost \n",
    "    \"\"\"\n",
    "        costs= []\n",
    "        for i in range(number_iterations):\n",
    "        \n",
    "            grads, cost = propagate(w,b,X,Y)\n",
    "    \n",
    "            dw = grads[\"dw\"]\n",
    "            db = grads[\"db\"]\n",
    "        \n",
    "            #update w and b \n",
    "            w = w -  learning_rate*dw\n",
    "            b = b  -learning_rate*db    \n",
    "        \n",
    "            if(i % 100) == 0:\n",
    "                costs.append(cost)\n",
    "                print (\"cost after iteration %i is :%f\" %(i,cost))\n",
    "\n",
    "        params = {\"w\":w,\n",
    "                     \"b\": b}\n",
    "        grads = {\"dw\":dw,\n",
    "                \"db\":db}\n",
    "        return params,grads,costs\n",
    "    "
   ]
  },
  {
   "cell_type": "code",
   "execution_count": 125,
   "metadata": {},
   "outputs": [
    {
     "name": "stdout",
     "output_type": "stream",
     "text": [
      "cost after iteration 0 is :3.009191\n"
     ]
    },
    {
     "data": {
      "text/plain": [
       "({'w': array([[0.50668963, 1.00662677],\n",
       "         [1.01337925, 1.01325353]]), 'b': array([[0.50668963],\n",
       "         [2.00662677]])}, {'dw': array([[ 0.48909337, -0.00656068],\n",
       "         [ 0.97818674, -0.01312136]]), 'db': array([[ 0.48909337],\n",
       "         [-0.00656068]])}, [3.0091910336268723])"
      ]
     },
     "execution_count": 125,
     "metadata": {},
     "output_type": "execute_result"
    }
   ],
   "source": [
    "w = np.array([[1,1],[2,1]])\n",
    "b = np.array([[1],[2]])\n",
    "X = np.array([[1,1],[2,2]])\n",
    "Y = np.array([[0,1],[1,1]])\n",
    "\n",
    "optimize(w,b,X,Y,2,0.5)"
   ]
  },
  {
   "cell_type": "markdown",
   "metadata": {},
   "source": [
    "## 预测"
   ]
  },
  {
   "cell_type": "code",
   "execution_count": 126,
   "metadata": {},
   "outputs": [],
   "source": [
    "def predicate (X ,w ,b):\n",
    "    \"\"\"\n",
    "    predicate of data\n",
    "    Arguments:\n",
    "        w-- weights,numpy array of shape(num_px*num_px,num_categories)\n",
    "        b -- bias of shape (num_categories,1)\n",
    "        X -- data of shape (num_px*num_px,number of examples)\n",
    "        \n",
    "        Return :\n",
    "        Y_pred_one_hot_label -- the predicate result of X,shape is :(num_categories,number of examples) \n",
    "        Y_pred_number -- a vector ,the predicate with a excactly number for each X\n",
    "    \"\"\"\n",
    "    m = X.shape[1]\n",
    "    z = np.dot(w.T,X)+b\n",
    "    yhats = sigmoid(z).T\n",
    "    Y_pred_one_hot_label = np.zeros((b.shape[0],m)) #one-hot-label \n",
    "    Y_pred_number =np.zeros((1,m)) #a number that it predicate\n",
    "    for i in range(yhats.shape[0]):\n",
    "        max_index = np.argmax(yhats[i])\n",
    "        Y_pred_one_hot_label[max_index,i] = 1\n",
    "        Y_pred_number[0,i] = int(max_index)\n",
    "    return Y_pred_one_hot_label,Y_pred_number\n",
    "        \n",
    "    "
   ]
  },
  {
   "cell_type": "code",
   "execution_count": 127,
   "metadata": {},
   "outputs": [
    {
     "data": {
      "text/plain": [
       "(array([[1., 1.],\n",
       "        [0., 0.]]), array([[0., 0.]]))"
      ]
     },
     "execution_count": 127,
     "metadata": {},
     "output_type": "execute_result"
    }
   ],
   "source": [
    "w = np.array([[1,1],[2,1]])\n",
    "b = np.array([[1],[2]])\n",
    "X = np.array([[1,1],[2,2]])\n",
    "\n",
    "predicate(X,w,b)"
   ]
  },
  {
   "cell_type": "markdown",
   "metadata": {},
   "source": [
    "## 构建模型\n",
    "把所有东西整合起来，构建模型"
   ]
  },
  {
   "cell_type": "code",
   "execution_count": 168,
   "metadata": {
    "code_folding": []
   },
   "outputs": [],
   "source": [
    "def nurvus_network_model(train_set_x, train_set_y, test_set_x, test_set_y, num_categories, number_iterations=2000, learning_rate=0.5):\n",
    "        \"\"\"\n",
    "    construct a model to predicate number picture\n",
    "    Arguments:\n",
    "        train_set_x-- training data,numpy array of shape(num_px*num_px,number of examples)\n",
    "        train_set_y -- the tag of trainning data  of shape (num_categories,number of examples)\n",
    "        test_set_x -- test examples,numpy array of shape (num_px*num_px,number of examples)\n",
    "        test_set_y -- the tag of test  data  of shape (num_categories,number of examples)\n",
    "        num_categories -- number of categories\n",
    "        number_iterations -- the number of iterate for optimize\n",
    "        learning_rate --\n",
    "\n",
    "        Return :\n",
    "        d -- dictionary contain info for model\n",
    "    \"\"\"\n",
    "        dim = train_set_x.shape[0]\n",
    "        # init w and b\n",
    "        w, b = initilize_params(dim, num_categories)\n",
    "        params, grads, costs = optimize(\n",
    "            w, b, train_set_x, train_set_y, number_iterations=number_iterations, learning_rate=learning_rate)\n",
    "        w = params[\"w\"]\n",
    "        b = params[\"b\"]\n",
    "\n",
    "        Y_pred_train_one_hot_label, Y_pred_train_number = predicate(\n",
    "            train_set_x, w, b)\n",
    "        Y_pred_test_one_hot_label, Y_pred_test_number = predicate(\n",
    "            test_set_x, w, b)\n",
    "\n",
    "        print(\"train accuracy: {} %\".format(\n",
    "            100 - np.mean(np.sum(np.abs(Y_pred_train_one_hot_label - train_set_y), axis=0)/2) * 100))\n",
    "        print(\"test accuracy: {} %\".format(\n",
    "            100 - np.mean(np.sum(np.abs(Y_pred_test_one_hot_label - test_set_y), axis=0)/2) * 100))\n",
    "\n",
    "        d = {\"w\":w,\n",
    "             \"b\":b,\n",
    "            \"costs\":costs,\n",
    "            \"Y_pred_train\":Y_pred_train_number,\n",
    "            \"Y_pred_train_one_hot\":Y_pred_train_one_hot_label,\n",
    "            \"Y_pred_test\":Y_pred_test_number,\n",
    "            \"Y_pred_test_one_hot\":Y_pred_test_one_hot_label,\n",
    "            \"learning_rate\":learning_rate,\n",
    "            \"iterations\":number_iterations}\n",
    "        return d"
   ]
  },
  {
   "cell_type": "code",
   "execution_count": 169,
   "metadata": {},
   "outputs": [
    {
     "name": "stdout",
     "output_type": "stream",
     "text": [
      "cost after iteration 0 is :6.931472\n",
      "cost after iteration 100 is :0.903445\n",
      "cost after iteration 200 is :0.813852\n",
      "cost after iteration 300 is :0.772380\n",
      "cost after iteration 400 is :0.746931\n",
      "cost after iteration 500 is :0.729237\n",
      "cost after iteration 600 is :0.716014\n",
      "cost after iteration 700 is :0.705655\n",
      "cost after iteration 800 is :0.697262\n",
      "cost after iteration 900 is :0.690289\n",
      "cost after iteration 1000 is :0.684382\n",
      "cost after iteration 1100 is :0.679299\n",
      "cost after iteration 1200 is :0.674868\n",
      "cost after iteration 1300 is :0.670963\n",
      "cost after iteration 1400 is :0.667490\n",
      "cost after iteration 1500 is :0.664375\n",
      "cost after iteration 1600 is :0.661562\n",
      "cost after iteration 1700 is :0.659007\n",
      "cost after iteration 1800 is :0.656671\n",
      "cost after iteration 1900 is :0.654527\n",
      "train accuracy: 91.66 %\n",
      "test accuracy: 91.82 %\n"
     ]
    }
   ],
   "source": [
    "number_categories = 10 \n",
    "d = nurvus_network_model(train_set_x,train_set_y,test_set_x,test_set_y,num_categories = 10,number_iterations=2000,learning_rate=0.6)"
   ]
  },
  {
   "cell_type": "code",
   "execution_count": 171,
   "metadata": {},
   "outputs": [
    {
     "name": "stdout",
     "output_type": "stream",
     "text": [
      "y is:9\n",
      "your predicate result is :9\n"
     ]
    },
    {
     "data": {
      "image/png": "[encoded data removed]",
      "text/plain": [
       "<Figure size 432x288 with 1 Axes>"
      ]
     },
     "metadata": {
      "needs_background": "light"
     },
     "output_type": "display_data"
    }
   ],
   "source": [
    "index = 20\n",
    "y_pred_test = d[\"Y_pred_test\"]\n",
    "plt.imshow(test_set_x[:,index].reshape((28,28)),cmap = plt.cm.gray)\n",
    "print(\"y is:\"+str(np.argmax(test_set_y[:,index])))\n",
    "\n",
    "print(\"your predicate result is :\"+str(int(y_pred_test[0,index])))"
   ]
  },
  {
   "cell_type": "markdown",
   "metadata": {},
   "source": [
    "## 画出损失函数图"
   ]
  },
  {
   "cell_type": "code",
   "execution_count": 172,
   "metadata": {},
   "outputs": [
    {
     "data": {
      "image/png": "[encoded data removed]",
      "text/plain": [
       "<Figure size 432x288 with 1 Axes>"
      ]
     },
     "metadata": {
      "needs_background": "light"
     },
     "output_type": "display_data"
    }
   ],
   "source": [
    "costs = d[\"costs\"]\n",
    "plt.plot(costs)\n",
    "plt.xlabel(\"iterations/hundreds\")\n",
    "plt.ylabel(\"costs\")\n",
    "plt.show()"
   ]
  },
  {
   "cell_type": "markdown",
   "metadata": {},
   "source": [
    "## 用自己的图片测试"
   ]
  },
  {
   "cell_type": "code",
   "execution_count": 381,
   "metadata": {},
   "outputs": [
    {
     "name": "stdout",
     "output_type": "stream",
     "text": [
      "(28, 28, 3)\n",
      "[[0.]\n",
      " [0.]\n",
      " [0.]\n",
      " [0.]\n",
      " [0.]\n",
      " [1.]\n",
      " [0.]\n",
      " [0.]\n",
      " [0.]\n",
      " [0.]]\n",
      "your predicate number is :5\n"
     ]
    },
    {
     "data": {
      "image/png": "[encoded data removed]",
      "text/plain": [
       "<Figure size 432x288 with 1 Axes>"
      ]
     },
     "metadata": {
      "needs_background": "light"
     },
     "output_type": "display_data"
    }
   ],
   "source": [
    "import scipy\n",
    "from PIL import Image\n",
    "from scipy import ndimage\n",
    "\n",
    "my_image_name = \"5.jpeg\"\n",
    "#my_image_name = \"2.jpeg\"\n",
    "#my_image_name = \"7.jpeg\"\n",
    "fname = my_image_name\n",
    "image = Image.open(fname)\n",
    "a = np.asarray(image)\n",
    "print(a.shape)\n",
    "image = image.convert(mode = \"L\")\n",
    "image = image.resize((28,28),resample = Image.ANTIALIAS)\n",
    "\n",
    "a = np.asarray(image)\n",
    "plt.imshow(image,cmap=plt.cm.gray) #显示图像\n",
    "a = 255 -a \n",
    "mean = np.mean(a)\n",
    "a = np.where(a < mean,0,a)\n",
    "a = a/255\n",
    "input_x = a.reshape((28*28,1))\n",
    "\n",
    "onehotlabel,predicate_number = predicate(input_x, d[\"w\"],d[\"b\"])\n",
    "print(onehotlabel)\n",
    "print(\"your predicate number is :\"+str(int(predicate_number[0][0])))\n",
    "\n"
   ]
  },
  {
   "cell_type": "code",
   "execution_count": null,
   "metadata": {},
   "outputs": [],
   "source": []
  }
 ],
 "metadata": {
  "kernelspec": {
   "display_name": "Python 3",
   "language": "python",
   "name": "python3"
  },
  "language_info": {
   "codemirror_mode": {
    "name": "ipython",
    "version": 3
   },
   "file_extension": ".py",
   "mimetype": "text/x-python",
   "name": "python",
   "nbconvert_exporter": "python",
   "pygments_lexer": "ipython3",
   "version": "3.7.3"
  },
  "toc": {
   "base_numbering": 1,
   "nav_menu": {},
   "number_sections": true,
   "sideBar": true,
   "skip_h1_title": false,
   "title_cell": "Table of Contents",
   "title_sidebar": "Contents",
   "toc_cell": false,
   "toc_position": {},
   "toc_section_display": true,
   "toc_window_display": false
  },
  "varInspector": {
   "cols": {
    "lenName": 16,
    "lenType": 16,
    "lenVar": 40
   },
   "kernels_config": {
    "python": {
     "delete_cmd_postfix": "",
     "delete_cmd_prefix": "del ",
     "library": "var_list.py",
     "varRefreshCmd": "print(var_dic_list())"
    },
    "r": {
     "delete_cmd_postfix": ") ",
     "delete_cmd_prefix": "rm(",
     "library": "var_list.r",
     "varRefreshCmd": "cat(var_dic_list()) "
    }
   },
   "types_to_exclude": [
    "module",
    "function",
    "builtin_function_or_method",
    "instance",
    "_Feature"
   ],
   "window_display": false
  }
 },
 "nbformat": 4,
 "nbformat_minor": 2
}
